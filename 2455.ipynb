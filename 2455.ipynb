{
 "cells": [
  {
   "cell_type": "markdown",
   "metadata": {},
   "source": [
    "Given an integer array nums of positive integers, return the average value of all even integers that are divisible by 3.\n",
    "\n",
    "Note that the average of n elements is the sum of the n elements divided by n and rounded down to the nearest integer.\n",
    "\n",
    "Input: nums = [1,3,6,10,12,15]\n",
    "Output: 9\n",
    "Explanation: 6 and 12 are even numbers that are divisible by 3. (6 + 12) / 2 = 9.\n",
    "\n",
    "Input: nums = [1,2,4,7,10]\n",
    "Output: 0\n",
    "Explanation: There is no single number that satisfies the requirement, so return 0."
   ]
  },
  {
   "cell_type": "code",
   "execution_count": null,
   "metadata": {},
   "outputs": [],
   "source": [
    "# My answer\n",
    "class Solution:\n",
    "    def averageValue(self, nums: List[int]) -> int:\n",
    "        sumNums = 0\n",
    "        counter = 0\n",
    "        for num in nums:\n",
    "            if num%6 == 0:\n",
    "                sumNums += num\n",
    "                counter += 1\n",
    "        \n",
    "        if counter == 0:\n",
    "            return 0\n",
    "        else:\n",
    "            return int(sumNums/counter)"
   ]
  },
  {
   "cell_type": "code",
   "execution_count": null,
   "metadata": {},
   "outputs": [],
   "source": [
    "# One-liner\n",
    "\n",
    "import numpy as np\n",
    "\n",
    "class Solution:\n",
    "    def averageValue(self, nums: List[int]) -> int:\n",
    "        return int(np.mean([num for num in nums if num%6 == 0] or 0))"
   ]
  }
 ],
 "metadata": {
  "language_info": {
   "name": "python"
  },
  "orig_nbformat": 4
 },
 "nbformat": 4,
 "nbformat_minor": 2
}
