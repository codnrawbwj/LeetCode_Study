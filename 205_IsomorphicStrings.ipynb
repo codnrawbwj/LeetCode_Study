{
 "cells": [
  {
   "cell_type": "markdown",
   "metadata": {},
   "source": [
    "Given two strings s and t, determine if they are isomorphic.\n",
    "\n",
    "Two strings s and t are isomorphic if the characters in s can be replaced to get t.\n",
    "\n",
    "All occurrences of a character must be replaced with another character while preserving the order of characters. No two characters may map to the same character, but a character may map to itself.\n",
    "\n",
    "Example)\n",
    "Input: s = \"egg\", t = \"add\"\n",
    "Output: true\n",
    "\n",
    "Input: s = \"foo\", t = \"bar\"\n",
    "Output: false"
   ]
  },
  {
   "cell_type": "code",
   "execution_count": null,
   "metadata": {},
   "outputs": [],
   "source": [
    "class Solution:\n",
    "    def isIsomorphic(self, s: str, t: str) -> bool:\n",
    "        \n",
    "        mapBook1 = []\n",
    "        mapBook2 = []\n",
    "\n",
    "        for i, j in zip(s,t):\n",
    "            if i not in mapBook1 and j not in mapBook2:\n",
    "                mapBook1.append(i)\n",
    "                mapBook2.append(j)\n",
    "            elif \n",
    "\n",
    "        return True"
   ]
  }
 ],
 "metadata": {
  "kernelspec": {
   "display_name": "Python 3.8.5 ('base')",
   "language": "python",
   "name": "python3"
  },
  "language_info": {
   "codemirror_mode": {
    "name": "ipython",
    "version": 3
   },
   "file_extension": ".py",
   "mimetype": "text/x-python",
   "name": "python",
   "nbconvert_exporter": "python",
   "pygments_lexer": "ipython3",
   "version": "3.8.5"
  },
  "orig_nbformat": 4,
  "vscode": {
   "interpreter": {
    "hash": "4c89fd2802a6d49a2906e55934b94dae1c722d6e331fa2263cdfca5a55a8069b"
   }
  }
 },
 "nbformat": 4,
 "nbformat_minor": 2
}
